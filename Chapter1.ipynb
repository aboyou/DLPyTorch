{
  "nbformat": 4,
  "nbformat_minor": 0,
  "metadata": {
    "colab": {
      "provenance": [],
      "gpuType": "T4",
      "authorship_tag": "ABX9TyPpbx0I4p9LEEddH/p6RGlZ"
    },
    "kernelspec": {
      "name": "python3",
      "display_name": "Python 3"
    },
    "language_info": {
      "name": "python"
    },
    "accelerator": "GPU"
  },
  "cells": [
    {
      "cell_type": "markdown",
      "source": [
        "# Part 1 - Chapter 1"
      ],
      "metadata": {
        "id": "v445MIibNoZb"
      }
    },
    {
      "cell_type": "markdown",
      "source": [
        "<div dir=\"rtl\">\n",
        "متن RTL</div>"
      ],
      "metadata": {
        "id": "U_R6cBA7NiiG"
      }
    },
    {
      "cell_type": "code",
      "source": [
        "!pip install torchviz"
      ],
      "metadata": {
        "colab": {
          "base_uri": "https://localhost:8080/"
        },
        "id": "SEXs4ZyBeSt8",
        "outputId": "2d2b56d5-475b-4ad7-8284-34a09e882ff4"
      },
      "execution_count": 1,
      "outputs": [
        {
          "output_type": "stream",
          "name": "stdout",
          "text": [
            "Collecting torchviz\n",
            "  Downloading torchviz-0.0.3-py3-none-any.whl.metadata (2.1 kB)\n",
            "Requirement already satisfied: torch in /usr/local/lib/python3.11/dist-packages (from torchviz) (2.6.0+cu124)\n",
            "Requirement already satisfied: graphviz in /usr/local/lib/python3.11/dist-packages (from torchviz) (0.21)\n",
            "Requirement already satisfied: filelock in /usr/local/lib/python3.11/dist-packages (from torch->torchviz) (3.18.0)\n",
            "Requirement already satisfied: typing-extensions>=4.10.0 in /usr/local/lib/python3.11/dist-packages (from torch->torchviz) (4.14.1)\n",
            "Requirement already satisfied: networkx in /usr/local/lib/python3.11/dist-packages (from torch->torchviz) (3.5)\n",
            "Requirement already satisfied: jinja2 in /usr/local/lib/python3.11/dist-packages (from torch->torchviz) (3.1.6)\n",
            "Requirement already satisfied: fsspec in /usr/local/lib/python3.11/dist-packages (from torch->torchviz) (2025.3.0)\n",
            "Collecting nvidia-cuda-nvrtc-cu12==12.4.127 (from torch->torchviz)\n",
            "  Downloading nvidia_cuda_nvrtc_cu12-12.4.127-py3-none-manylinux2014_x86_64.whl.metadata (1.5 kB)\n",
            "Collecting nvidia-cuda-runtime-cu12==12.4.127 (from torch->torchviz)\n",
            "  Downloading nvidia_cuda_runtime_cu12-12.4.127-py3-none-manylinux2014_x86_64.whl.metadata (1.5 kB)\n",
            "Collecting nvidia-cuda-cupti-cu12==12.4.127 (from torch->torchviz)\n",
            "  Downloading nvidia_cuda_cupti_cu12-12.4.127-py3-none-manylinux2014_x86_64.whl.metadata (1.6 kB)\n",
            "Collecting nvidia-cudnn-cu12==9.1.0.70 (from torch->torchviz)\n",
            "  Downloading nvidia_cudnn_cu12-9.1.0.70-py3-none-manylinux2014_x86_64.whl.metadata (1.6 kB)\n",
            "Collecting nvidia-cublas-cu12==12.4.5.8 (from torch->torchviz)\n",
            "  Downloading nvidia_cublas_cu12-12.4.5.8-py3-none-manylinux2014_x86_64.whl.metadata (1.5 kB)\n",
            "Collecting nvidia-cufft-cu12==11.2.1.3 (from torch->torchviz)\n",
            "  Downloading nvidia_cufft_cu12-11.2.1.3-py3-none-manylinux2014_x86_64.whl.metadata (1.5 kB)\n",
            "Collecting nvidia-curand-cu12==10.3.5.147 (from torch->torchviz)\n",
            "  Downloading nvidia_curand_cu12-10.3.5.147-py3-none-manylinux2014_x86_64.whl.metadata (1.5 kB)\n",
            "Collecting nvidia-cusolver-cu12==11.6.1.9 (from torch->torchviz)\n",
            "  Downloading nvidia_cusolver_cu12-11.6.1.9-py3-none-manylinux2014_x86_64.whl.metadata (1.6 kB)\n",
            "Collecting nvidia-cusparse-cu12==12.3.1.170 (from torch->torchviz)\n",
            "  Downloading nvidia_cusparse_cu12-12.3.1.170-py3-none-manylinux2014_x86_64.whl.metadata (1.6 kB)\n",
            "Requirement already satisfied: nvidia-cusparselt-cu12==0.6.2 in /usr/local/lib/python3.11/dist-packages (from torch->torchviz) (0.6.2)\n",
            "Requirement already satisfied: nvidia-nccl-cu12==2.21.5 in /usr/local/lib/python3.11/dist-packages (from torch->torchviz) (2.21.5)\n",
            "Requirement already satisfied: nvidia-nvtx-cu12==12.4.127 in /usr/local/lib/python3.11/dist-packages (from torch->torchviz) (12.4.127)\n",
            "Collecting nvidia-nvjitlink-cu12==12.4.127 (from torch->torchviz)\n",
            "  Downloading nvidia_nvjitlink_cu12-12.4.127-py3-none-manylinux2014_x86_64.whl.metadata (1.5 kB)\n",
            "Requirement already satisfied: triton==3.2.0 in /usr/local/lib/python3.11/dist-packages (from torch->torchviz) (3.2.0)\n",
            "Requirement already satisfied: sympy==1.13.1 in /usr/local/lib/python3.11/dist-packages (from torch->torchviz) (1.13.1)\n",
            "Requirement already satisfied: mpmath<1.4,>=1.1.0 in /usr/local/lib/python3.11/dist-packages (from sympy==1.13.1->torch->torchviz) (1.3.0)\n",
            "Requirement already satisfied: MarkupSafe>=2.0 in /usr/local/lib/python3.11/dist-packages (from jinja2->torch->torchviz) (3.0.2)\n",
            "Downloading torchviz-0.0.3-py3-none-any.whl (5.7 kB)\n",
            "Downloading nvidia_cublas_cu12-12.4.5.8-py3-none-manylinux2014_x86_64.whl (363.4 MB)\n",
            "\u001b[2K   \u001b[90m━━━━━━━━━━━━━━━━━━━━━━━━━━━━━━━━━━━━━━━━\u001b[0m \u001b[32m363.4/363.4 MB\u001b[0m \u001b[31m4.8 MB/s\u001b[0m eta \u001b[36m0:00:00\u001b[0m\n",
            "\u001b[?25hDownloading nvidia_cuda_cupti_cu12-12.4.127-py3-none-manylinux2014_x86_64.whl (13.8 MB)\n",
            "\u001b[2K   \u001b[90m━━━━━━━━━━━━━━━━━━━━━━━━━━━━━━━━━━━━━━━━\u001b[0m \u001b[32m13.8/13.8 MB\u001b[0m \u001b[31m83.7 MB/s\u001b[0m eta \u001b[36m0:00:00\u001b[0m\n",
            "\u001b[?25hDownloading nvidia_cuda_nvrtc_cu12-12.4.127-py3-none-manylinux2014_x86_64.whl (24.6 MB)\n",
            "\u001b[2K   \u001b[90m━━━━━━━━━━━━━━━━━━━━━━━━━━━━━━━━━━━━━━━━\u001b[0m \u001b[32m24.6/24.6 MB\u001b[0m \u001b[31m56.5 MB/s\u001b[0m eta \u001b[36m0:00:00\u001b[0m\n",
            "\u001b[?25hDownloading nvidia_cuda_runtime_cu12-12.4.127-py3-none-manylinux2014_x86_64.whl (883 kB)\n",
            "\u001b[2K   \u001b[90m━━━━━━━━━━━━━━━━━━━━━━━━━━━━━━━━━━━━━━━━\u001b[0m \u001b[32m883.7/883.7 kB\u001b[0m \u001b[31m32.8 MB/s\u001b[0m eta \u001b[36m0:00:00\u001b[0m\n",
            "\u001b[?25hDownloading nvidia_cudnn_cu12-9.1.0.70-py3-none-manylinux2014_x86_64.whl (664.8 MB)\n",
            "\u001b[2K   \u001b[90m━━━━━━━━━━━━━━━━━━━━━━━━━━━━━━━━━━━━━━━\u001b[0m \u001b[32m664.8/664.8 MB\u001b[0m \u001b[31m850.3 kB/s\u001b[0m eta \u001b[36m0:00:00\u001b[0m\n",
            "\u001b[?25hDownloading nvidia_cufft_cu12-11.2.1.3-py3-none-manylinux2014_x86_64.whl (211.5 MB)\n",
            "\u001b[2K   \u001b[90m━━━━━━━━━━━━━━━━━━━━━━━━━━━━━━━━━━━━━━━━\u001b[0m \u001b[32m211.5/211.5 MB\u001b[0m \u001b[31m5.2 MB/s\u001b[0m eta \u001b[36m0:00:00\u001b[0m\n",
            "\u001b[?25hDownloading nvidia_curand_cu12-10.3.5.147-py3-none-manylinux2014_x86_64.whl (56.3 MB)\n",
            "\u001b[2K   \u001b[90m━━━━━━━━━━━━━━━━━━━━━━━━━━━━━━━━━━━━━━━━\u001b[0m \u001b[32m56.3/56.3 MB\u001b[0m \u001b[31m13.0 MB/s\u001b[0m eta \u001b[36m0:00:00\u001b[0m\n",
            "\u001b[?25hDownloading nvidia_cusolver_cu12-11.6.1.9-py3-none-manylinux2014_x86_64.whl (127.9 MB)\n",
            "\u001b[2K   \u001b[90m━━━━━━━━━━━━━━━━━━━━━━━━━━━━━━━━━━━━━━━━\u001b[0m \u001b[32m127.9/127.9 MB\u001b[0m \u001b[31m7.3 MB/s\u001b[0m eta \u001b[36m0:00:00\u001b[0m\n",
            "\u001b[?25hDownloading nvidia_cusparse_cu12-12.3.1.170-py3-none-manylinux2014_x86_64.whl (207.5 MB)\n",
            "\u001b[2K   \u001b[90m━━━━━━━━━━━━━━━━━━━━━━━━━━━━━━━━━━━━━━━━\u001b[0m \u001b[32m207.5/207.5 MB\u001b[0m \u001b[31m6.1 MB/s\u001b[0m eta \u001b[36m0:00:00\u001b[0m\n",
            "\u001b[?25hDownloading nvidia_nvjitlink_cu12-12.4.127-py3-none-manylinux2014_x86_64.whl (21.1 MB)\n",
            "\u001b[2K   \u001b[90m━━━━━━━━━━━━━━━━━━━━━━━━━━━━━━━━━━━━━━━━\u001b[0m \u001b[32m21.1/21.1 MB\u001b[0m \u001b[31m88.5 MB/s\u001b[0m eta \u001b[36m0:00:00\u001b[0m\n",
            "\u001b[?25hInstalling collected packages: nvidia-nvjitlink-cu12, nvidia-curand-cu12, nvidia-cufft-cu12, nvidia-cuda-runtime-cu12, nvidia-cuda-nvrtc-cu12, nvidia-cuda-cupti-cu12, nvidia-cublas-cu12, nvidia-cusparse-cu12, nvidia-cudnn-cu12, nvidia-cusolver-cu12, torchviz\n",
            "  Attempting uninstall: nvidia-nvjitlink-cu12\n",
            "    Found existing installation: nvidia-nvjitlink-cu12 12.5.82\n",
            "    Uninstalling nvidia-nvjitlink-cu12-12.5.82:\n",
            "      Successfully uninstalled nvidia-nvjitlink-cu12-12.5.82\n",
            "  Attempting uninstall: nvidia-curand-cu12\n",
            "    Found existing installation: nvidia-curand-cu12 10.3.6.82\n",
            "    Uninstalling nvidia-curand-cu12-10.3.6.82:\n",
            "      Successfully uninstalled nvidia-curand-cu12-10.3.6.82\n",
            "  Attempting uninstall: nvidia-cufft-cu12\n",
            "    Found existing installation: nvidia-cufft-cu12 11.2.3.61\n",
            "    Uninstalling nvidia-cufft-cu12-11.2.3.61:\n",
            "      Successfully uninstalled nvidia-cufft-cu12-11.2.3.61\n",
            "  Attempting uninstall: nvidia-cuda-runtime-cu12\n",
            "    Found existing installation: nvidia-cuda-runtime-cu12 12.5.82\n",
            "    Uninstalling nvidia-cuda-runtime-cu12-12.5.82:\n",
            "      Successfully uninstalled nvidia-cuda-runtime-cu12-12.5.82\n",
            "  Attempting uninstall: nvidia-cuda-nvrtc-cu12\n",
            "    Found existing installation: nvidia-cuda-nvrtc-cu12 12.5.82\n",
            "    Uninstalling nvidia-cuda-nvrtc-cu12-12.5.82:\n",
            "      Successfully uninstalled nvidia-cuda-nvrtc-cu12-12.5.82\n",
            "  Attempting uninstall: nvidia-cuda-cupti-cu12\n",
            "    Found existing installation: nvidia-cuda-cupti-cu12 12.5.82\n",
            "    Uninstalling nvidia-cuda-cupti-cu12-12.5.82:\n",
            "      Successfully uninstalled nvidia-cuda-cupti-cu12-12.5.82\n",
            "  Attempting uninstall: nvidia-cublas-cu12\n",
            "    Found existing installation: nvidia-cublas-cu12 12.5.3.2\n",
            "    Uninstalling nvidia-cublas-cu12-12.5.3.2:\n",
            "      Successfully uninstalled nvidia-cublas-cu12-12.5.3.2\n",
            "  Attempting uninstall: nvidia-cusparse-cu12\n",
            "    Found existing installation: nvidia-cusparse-cu12 12.5.1.3\n",
            "    Uninstalling nvidia-cusparse-cu12-12.5.1.3:\n",
            "      Successfully uninstalled nvidia-cusparse-cu12-12.5.1.3\n",
            "  Attempting uninstall: nvidia-cudnn-cu12\n",
            "    Found existing installation: nvidia-cudnn-cu12 9.3.0.75\n",
            "    Uninstalling nvidia-cudnn-cu12-9.3.0.75:\n",
            "      Successfully uninstalled nvidia-cudnn-cu12-9.3.0.75\n",
            "  Attempting uninstall: nvidia-cusolver-cu12\n",
            "    Found existing installation: nvidia-cusolver-cu12 11.6.3.83\n",
            "    Uninstalling nvidia-cusolver-cu12-11.6.3.83:\n",
            "      Successfully uninstalled nvidia-cusolver-cu12-11.6.3.83\n",
            "Successfully installed nvidia-cublas-cu12-12.4.5.8 nvidia-cuda-cupti-cu12-12.4.127 nvidia-cuda-nvrtc-cu12-12.4.127 nvidia-cuda-runtime-cu12-12.4.127 nvidia-cudnn-cu12-9.1.0.70 nvidia-cufft-cu12-11.2.1.3 nvidia-curand-cu12-10.3.5.147 nvidia-cusolver-cu12-11.6.1.9 nvidia-cusparse-cu12-12.3.1.170 nvidia-nvjitlink-cu12-12.4.127 torchviz-0.0.3\n"
          ]
        }
      ]
    },
    {
      "cell_type": "code",
      "execution_count": 2,
      "metadata": {
        "id": "oNZfzRLHNfOT"
      },
      "outputs": [],
      "source": [
        "import numpy as np\n",
        "from sklearn.linear_model import LinearRegression\n",
        "\n",
        "import torch\n",
        "import torch.optim as optim\n",
        "import torch.nn as nn\n",
        "from torchviz import make_dot"
      ]
    },
    {
      "cell_type": "markdown",
      "source": [
        "# The simplest neural networks\n",
        "\n",
        "![image.png](data:image/png;base64,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)"
      ],
      "metadata": {
        "id": "eyoC3buHgkP_"
      }
    },
    {
      "cell_type": "markdown",
      "source": [
        "## Data Generation"
      ],
      "metadata": {
        "id": "GzsrzVOIi0AE"
      }
    },
    {
      "cell_type": "code",
      "source": [
        "true_b = 1\n",
        "true_w = 2\n",
        "N = 100\n",
        "\n",
        "# Data Generation\n",
        "np.random.seed(42)\n",
        "x = np.random.rand(N, 1)\n",
        "epsilon = (.1 * np.random.randn(N, 1))\n",
        "y = true_b + true_w * x + epsilon"
      ],
      "metadata": {
        "id": "QsmzF1tqeK_3"
      },
      "execution_count": 3,
      "outputs": []
    },
    {
      "cell_type": "code",
      "source": [
        "# Shuffles the indices\n",
        "idx = np.arange(N)\n",
        "np.random.shuffle(idx)\n",
        "\n",
        "# Uses first 80 random indices for train\n",
        "train_idx = idx[:int(N*.8)]\n",
        "# Uses the remaining indices for validation\n",
        "val_idx = idx[int(N*.8):]\n",
        "\n",
        "# Generates train and validation sets\n",
        "x_train, y_train = x[train_idx], y[train_idx]\n",
        "x_val, y_val = x[val_idx], y[train_idx]"
      ],
      "metadata": {
        "id": "hPTckDmzjVSD"
      },
      "execution_count": 4,
      "outputs": []
    },
    {
      "cell_type": "markdown",
      "source": [
        "# Gradient Descent\n",
        "## Step 0 - Random Initialization"
      ],
      "metadata": {
        "id": "NwtKgslclAHf"
      }
    },
    {
      "cell_type": "code",
      "source": [
        "# Step 0 - Initialization parameters \"b\" and \"w\" randomly\n",
        "np.random.seed(42)\n",
        "b = np.random.randn(1)\n",
        "w = np.random.randn(1)\n",
        "\n",
        "print(b, w)"
      ],
      "metadata": {
        "colab": {
          "base_uri": "https://localhost:8080/"
        },
        "id": "5hn_4SeOkox3",
        "outputId": "2883622b-012c-48d1-cf04-a269dd7cae6d"
      },
      "execution_count": 5,
      "outputs": [
        {
          "output_type": "stream",
          "name": "stdout",
          "text": [
            "[0.49671415] [-0.1382643]\n"
          ]
        }
      ]
    },
    {
      "cell_type": "markdown",
      "source": [
        "## Step 1 - Compute Model's Predictions"
      ],
      "metadata": {
        "id": "vsBYQhLsloRg"
      }
    },
    {
      "cell_type": "code",
      "source": [
        "# Step 1 - Computes our model's predicted output - forward pass\n",
        "yhat = b + w * x_train"
      ],
      "metadata": {
        "id": "8MmVxVLnlmST"
      },
      "execution_count": 6,
      "outputs": []
    },
    {
      "cell_type": "markdown",
      "source": [
        "## Step 2 - Compute the Loss"
      ],
      "metadata": {
        "id": "BYz4xkDnl9p_"
      }
    },
    {
      "cell_type": "code",
      "source": [
        "# Step 2 - Computing the loss\n",
        "# We are using ALL data points, so this is BATCH gradient\n",
        "# descent. How wrong is our model? That's the error!\n",
        "error = (yhat - y_train)\n",
        "\n",
        "# It is a regression, so it computes mean squared error (MSE)\n",
        "loss = (error ** 2).mean()\n",
        "\n",
        "print(loss)"
      ],
      "metadata": {
        "colab": {
          "base_uri": "https://localhost:8080/"
        },
        "id": "I1z5l9bvl857",
        "outputId": "ebc1b572-a2a3-4223-9a97-c21677870cbd"
      },
      "execution_count": 7,
      "outputs": [
        {
          "output_type": "stream",
          "name": "stdout",
          "text": [
            "2.7421577700550976\n"
          ]
        }
      ]
    },
    {
      "cell_type": "markdown",
      "source": [
        "## Step 3 - Compute the Gradients"
      ],
      "metadata": {
        "id": "_TSuutJgmToZ"
      }
    },
    {
      "cell_type": "code",
      "source": [
        "# Step 3 - Computes gradients for both \"b\" and \"w\" parameters\n",
        "b_grad = 2 * error.mean()\n",
        "w_grad = 2 * (x_train * error).mean()\n",
        "print(b_grad, w_grad)"
      ],
      "metadata": {
        "colab": {
          "base_uri": "https://localhost:8080/"
        },
        "id": "HiWGq4KCmOkm",
        "outputId": "c42cb919-c903-4995-b254-cc9e5c7abf2d"
      },
      "execution_count": 8,
      "outputs": [
        {
          "output_type": "stream",
          "name": "stdout",
          "text": [
            "-3.044811379650508 -1.8337537171510832\n"
          ]
        }
      ]
    },
    {
      "cell_type": "markdown",
      "source": [
        "## Step 4 - Update the Parameters"
      ],
      "metadata": {
        "id": "MOpX2WGKmepP"
      }
    },
    {
      "cell_type": "code",
      "source": [
        "# Sets learning rate - this is \"eta\" ~ the \"n\"-like Greek letter\n",
        "lr = 0.1\n",
        "print(b, w)\n",
        "\n",
        "# Step 4 - Updates parameters using gradients and\n",
        "# the learning rate\n",
        "b = b - lr * b_grad\n",
        "w = w - lr * w_grad\n",
        "\n",
        "print(b, w)"
      ],
      "metadata": {
        "colab": {
          "base_uri": "https://localhost:8080/"
        },
        "id": "KADccX1qmbaC",
        "outputId": "eda002a8-9750-4e67-84c0-c2d4f18b7b72"
      },
      "execution_count": 9,
      "outputs": [
        {
          "output_type": "stream",
          "name": "stdout",
          "text": [
            "[0.49671415] [-0.1382643]\n",
            "[0.80119529] [0.04511107]\n"
          ]
        }
      ]
    },
    {
      "cell_type": "markdown",
      "source": [
        "## Step 5 -Rinse and Repeat"
      ],
      "metadata": {
        "id": "JiW_4s9QmoyI"
      }
    },
    {
      "cell_type": "code",
      "source": [],
      "metadata": {
        "id": "PvYuty_hmkMQ"
      },
      "execution_count": 9,
      "outputs": []
    },
    {
      "cell_type": "markdown",
      "source": [
        "# with Numpy"
      ],
      "metadata": {
        "id": "MxIa-MZbnfHf"
      }
    },
    {
      "cell_type": "code",
      "source": [
        "# Step 0 - Initializes parameters \"b\" and \"w\" randomly\n",
        "np.random.seed(42)\n",
        "b = np.random.randn(1)\n",
        "w = np.random.randn(1)\n",
        "print(b, w)\n",
        "\n",
        "# Sets learning rate - this is \"eta\" ~ the \"n\"-like Greek letter\n",
        "lr = 0.1\n",
        "# Defines number of epochs\n",
        "n_epochs = 1000\n",
        "\n",
        "for epoch in range(n_epochs):\n",
        "# Step 1 - Computes model's predicted output - forward pass\n",
        "  yhat = b + w * x_train\n",
        "  error = (yhat - y_train)\n",
        "  loss = (error ** 2).mean()\n",
        "  b_grad = 2 * error.mean()\n",
        "  w_grad = 2 * (x_train * error).mean()\n",
        "  b = b - lr * b_grad\n",
        "  w = w - lr * w_grad\n",
        "\n",
        "print(b, w)"
      ],
      "metadata": {
        "colab": {
          "base_uri": "https://localhost:8080/"
        },
        "id": "qvh4D4p9nhWt",
        "outputId": "1490baaf-af28-4b0c-9394-7ef05bf4fa66"
      },
      "execution_count": 10,
      "outputs": [
        {
          "output_type": "stream",
          "name": "stdout",
          "text": [
            "[0.49671415] [-0.1382643]\n",
            "[1.02354094] [1.96896411]\n"
          ]
        }
      ]
    },
    {
      "cell_type": "markdown",
      "source": [
        "# PyTorch"
      ],
      "metadata": {
        "id": "7veL-TvSoWwB"
      }
    },
    {
      "cell_type": "markdown",
      "source": [
        "### Tensors"
      ],
      "metadata": {
        "id": "hOodbMDuLXGm"
      }
    },
    {
      "cell_type": "code",
      "source": [
        "scalar = torch.tensor(3.14159)\n",
        "vector = torch.tensor([1, 2, 3])\n",
        "matrix = torch.ones((2, 3), dtype=torch.float)\n",
        "tensor = torch.randn((2, 3, 4), dtype=torch.float)\n",
        "\n",
        "print(scalar)\n",
        "print(vector)\n",
        "print(matrix)\n",
        "print(tensor)"
      ],
      "metadata": {
        "id": "dGQGXeyHn815",
        "colab": {
          "base_uri": "https://localhost:8080/"
        },
        "outputId": "26db829d-0ee3-43c1-af78-eef12fbe85aa"
      },
      "execution_count": 11,
      "outputs": [
        {
          "output_type": "stream",
          "name": "stdout",
          "text": [
            "tensor(3.1416)\n",
            "tensor([1, 2, 3])\n",
            "tensor([[1., 1., 1.],\n",
            "        [1., 1., 1.]])\n",
            "tensor([[[-1.2105, -0.8180, -0.7553,  1.1376],\n",
            "         [ 0.0564, -0.1521,  0.6604, -0.7279],\n",
            "         [ 2.5033,  0.0074,  0.5289, -1.1087]],\n",
            "\n",
            "        [[-0.5015,  1.2982,  0.3229, -0.8225],\n",
            "         [-0.0496,  0.6767, -1.3998, -0.5190],\n",
            "         [ 0.1497, -0.8434, -0.1457, -0.5353]]])\n"
          ]
        }
      ]
    },
    {
      "cell_type": "code",
      "source": [
        "print(tensor.size(), tensor.size())"
      ],
      "metadata": {
        "colab": {
          "base_uri": "https://localhost:8080/"
        },
        "id": "NzanagpeLwBJ",
        "outputId": "1231b8cf-d94c-4c08-8a5e-c79713e4c582"
      },
      "execution_count": 12,
      "outputs": [
        {
          "output_type": "stream",
          "name": "stdout",
          "text": [
            "torch.Size([2, 3, 4]) torch.Size([2, 3, 4])\n"
          ]
        }
      ]
    },
    {
      "cell_type": "markdown",
      "source": [
        "### Loading Data, Devices, and CUDA"
      ],
      "metadata": {
        "id": "VhJYJ4OaNDZS"
      }
    },
    {
      "cell_type": "code",
      "source": [
        "x_train_tensor = torch.as_tensor(x_train)\n",
        "x_train.dtype, x_train_tensor.dtype"
      ],
      "metadata": {
        "colab": {
          "base_uri": "https://localhost:8080/"
        },
        "id": "hD5TQs16MCqh",
        "outputId": "197934ed-4f67-4016-da52-6a967985b526"
      },
      "execution_count": 13,
      "outputs": [
        {
          "output_type": "execute_result",
          "data": {
            "text/plain": [
              "(dtype('float64'), torch.float64)"
            ]
          },
          "metadata": {},
          "execution_count": 13
        }
      ]
    },
    {
      "cell_type": "markdown",
      "source": [
        "<div dir=\"rtl\">\n",
        "<h1>تنسور CPU</h1>\n",
        "هر تنسوری که تاکنون ایجاد شده است، CPU tensor بوده است. چرا که در حافظه اصلی کامپیوتر ذخیره می‌گردد و توسط CPU این داده‌ها هندل می‌شوند. تکنیکالی به داده‌ای که در حافظۀ اصلی باشد، به این نوع از تنسور CPU tensor اطلاق می‌گردد.\n",
        "</div>"
      ],
      "metadata": {
        "id": "bb7y9pdvOBjd"
      }
    },
    {
      "cell_type": "markdown",
      "source": [
        "<div dir=\"rtl\">\n",
        "<h1>تنسور GPU</h1>\n",
        "تنسور GPU به تنسورهایی اطلاق می‌گردد که در حافظۀ کارت گرافیک ذخیره گردند.\n",
        "\n",
        "می‌توان با استفاده از کد PyTorch تشخیص داد که آیا GPU فعال است یا نه.\n",
        "</div>"
      ],
      "metadata": {
        "id": "_jh0ajx-Oizq"
      }
    },
    {
      "cell_type": "code",
      "source": [
        "device = 'cuda' if torch.cuda.is_available() else 'cpu'\n",
        "print(device)"
      ],
      "metadata": {
        "colab": {
          "base_uri": "https://localhost:8080/"
        },
        "id": "PDreTc5bNSRZ",
        "outputId": "cac189a7-761a-4ef9-f66d-58b54c8abae9"
      },
      "execution_count": 14,
      "outputs": [
        {
          "output_type": "stream",
          "name": "stdout",
          "text": [
            "cuda\n"
          ]
        }
      ]
    },
    {
      "cell_type": "code",
      "source": [
        "n_cudas = torch.cuda.device_count()\n",
        "for i in range(n_cudas):\n",
        "  print(torch.cuda.get_device_name(i))"
      ],
      "metadata": {
        "colab": {
          "base_uri": "https://localhost:8080/"
        },
        "id": "d5ZhSPXjPX1H",
        "outputId": "7cf3f052-4082-4efb-af72-f704ec8b5bbc"
      },
      "execution_count": 15,
      "outputs": [
        {
          "output_type": "stream",
          "name": "stdout",
          "text": [
            "Tesla T4\n"
          ]
        }
      ]
    },
    {
      "cell_type": "code",
      "source": [
        "gpu_tensor = torch.as_tensor(x_train).to(device)\n",
        "gpu_tensor[0]"
      ],
      "metadata": {
        "colab": {
          "base_uri": "https://localhost:8080/"
        },
        "id": "qoakqdW9QJNP",
        "outputId": "a6a6bff8-1650-4b60-aac7-aae03c648309"
      },
      "execution_count": 16,
      "outputs": [
        {
          "output_type": "execute_result",
          "data": {
            "text/plain": [
              "tensor([0.7713], device='cuda:0', dtype=torch.float64)"
            ]
          },
          "metadata": {},
          "execution_count": 16
        }
      ]
    },
    {
      "cell_type": "code",
      "source": [
        "x_train_tensor = torch.as_tensor(x_train).float().to(device)\n",
        "y_train_tensor = torch.as_tensor(y_train).float().to(device)"
      ],
      "metadata": {
        "id": "4eqq1SJdQYvJ"
      },
      "execution_count": 17,
      "outputs": []
    },
    {
      "cell_type": "code",
      "source": [
        "print(type(x_train), type(x_train_tensor), x_train_tensor.type())"
      ],
      "metadata": {
        "colab": {
          "base_uri": "https://localhost:8080/"
        },
        "id": "VQMS-YOXQu8X",
        "outputId": "5cd7a193-89a0-4bd8-f196-d47f82d792da"
      },
      "execution_count": 20,
      "outputs": [
        {
          "output_type": "stream",
          "name": "stdout",
          "text": [
            "<class 'numpy.ndarray'> <class 'torch.Tensor'> torch.cuda.FloatTensor\n"
          ]
        }
      ]
    },
    {
      "cell_type": "markdown",
      "source": [
        "<div dir=\"rtl\">\n",
        "<h1>تنسورهای پارامترهای قابل یادگیری</h1>\n",
        "تنسور پارامترهای قابل یادگیری نیاز به gradient دارند. در واقع این فرق بین این نوع از تنسورها و تنسور داده‌ها است.</div>"
      ],
      "metadata": {
        "id": "5ZkE3UzWYpJK"
      }
    },
    {
      "cell_type": "markdown",
      "source": [
        "**CPU tensors for parameters**:"
      ],
      "metadata": {
        "id": "s0oQVYvVZYMJ"
      }
    },
    {
      "cell_type": "code",
      "source": [
        "torch.manual_seed(42)\n",
        "b = torch.randn(1, requires_grad=True, dtype=torch.float)\n",
        "w = torch.randn(1, requires_grad=True, dtype=torch.float)\n",
        "print(b , w)"
      ],
      "metadata": {
        "colab": {
          "base_uri": "https://localhost:8080/"
        },
        "id": "kOUyFL0rQ0ee",
        "outputId": "d88469ce-7d00-4218-bc82-e93d2b9e0fb6"
      },
      "execution_count": 22,
      "outputs": [
        {
          "output_type": "stream",
          "name": "stdout",
          "text": [
            "tensor([0.3367], requires_grad=True) tensor([0.1288], requires_grad=True)\n"
          ]
        }
      ]
    },
    {
      "cell_type": "markdown",
      "source": [
        "**GPU tensors for parameters:**"
      ],
      "metadata": {
        "id": "TmFGyam1aZtU"
      }
    },
    {
      "cell_type": "code",
      "source": [
        "torch.manual_seed(42)\n",
        "\n",
        "b = torch.randn(1, dtype=torch.float).to(device)\n",
        "w = torch.randn(1, dtype=torch.float).to(device)\n",
        "\n",
        "b.requires_grad_()\n",
        "w.requires_grad_()\n",
        "print(b, w)"
      ],
      "metadata": {
        "colab": {
          "base_uri": "https://localhost:8080/"
        },
        "id": "BGKwbi1PZ2Nh",
        "outputId": "30a6fdea-2b12-4a50-b22f-df211d12bf35"
      },
      "execution_count": 25,
      "outputs": [
        {
          "output_type": "stream",
          "name": "stdout",
          "text": [
            "tensor([0.3367], device='cuda:0', requires_grad=True) tensor([0.1288], device='cuda:0', requires_grad=True)\n"
          ]
        }
      ]
    },
    {
      "cell_type": "markdown",
      "source": [
        "**OR**:"
      ],
      "metadata": {
        "id": "54QQzQr3a5Qr"
      }
    },
    {
      "cell_type": "code",
      "source": [
        "torch.manual_seed(42)\n",
        "\n",
        "b = torch.randn(1, requires_grad=True, dtype=torch.float, device=device)\n",
        "w = torch.randn(1, requires_grad=True, dtype=torch.float, device=device)\n",
        "print(b, w)"
      ],
      "metadata": {
        "colab": {
          "base_uri": "https://localhost:8080/"
        },
        "id": "2_4IK9vAatCT",
        "outputId": "9239ceec-7c3f-42b2-b297-76dbed0c0e6f"
      },
      "execution_count": 26,
      "outputs": [
        {
          "output_type": "stream",
          "name": "stdout",
          "text": [
            "tensor([0.1940], device='cuda:0', requires_grad=True) tensor([0.1391], device='cuda:0', requires_grad=True)\n"
          ]
        }
      ]
    },
    {
      "cell_type": "code",
      "source": [],
      "metadata": {
        "id": "t2ATOmsCbH8x"
      },
      "execution_count": null,
      "outputs": []
    }
  ]
}