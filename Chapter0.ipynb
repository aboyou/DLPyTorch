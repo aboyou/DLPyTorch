{
  "nbformat": 4,
  "nbformat_minor": 0,
  "metadata": {
    "colab": {
      "provenance": [],
      "authorship_tag": "ABX9TyOeldu9ax46PbSFiG0Tt157",
      "include_colab_link": true
    },
    "kernelspec": {
      "name": "python3",
      "display_name": "Python 3"
    },
    "language_info": {
      "name": "python"
    }
  },
  "cells": [
    {
      "cell_type": "markdown",
      "metadata": {
        "id": "view-in-github",
        "colab_type": "text"
      },
      "source": [
        "<a href=\"https://colab.research.google.com/github/aboyou/DLPyTorch/blob/main/Chapter0.ipynb\" target=\"_parent\"><img src=\"https://colab.research.google.com/assets/colab-badge.svg\" alt=\"Open In Colab\"/></a>"
      ]
    },
    {
      "cell_type": "markdown",
      "source": [
        "# Part 1 - Chapter 0\n",
        "There is no actual PyTorch code in this chapter... it is Numpy all along! Just knowing how gradient descent works."
      ],
      "metadata": {
        "id": "YTyWedAkmtqs"
      }
    },
    {
      "cell_type": "code",
      "execution_count": 1,
      "metadata": {
        "id": "Ew7OyED-G5Tt"
      },
      "outputs": [],
      "source": [
        "import numpy as np\n",
        "from sklearn.linear_model import LinearRegression\n",
        "from sklearn.preprocessing import StandardScaler"
      ]
    },
    {
      "cell_type": "markdown",
      "source": [
        "**Gradient descent**: is an iterative technique commonly used in machine learning and deep learning to **find the best possible set of parameters / coefficients for a given model, data points, and loss function, starting from an initial, and usually random, guess.**"
      ],
      "metadata": {
        "id": "5vtYvDujrVbC"
      }
    },
    {
      "cell_type": "markdown",
      "source": [
        "***Why visualizing gradient descent?***\n",
        "\n",
        "A way which learn such a fundamental topic."
      ],
      "metadata": {
        "id": "ZFn-PClHsUZM"
      }
    },
    {
      "cell_type": "markdown",
      "source": [
        "We must set two things:\n",
        "\n",
        "1- **Model**, we want to train to better understand gradient descent\n",
        "\n",
        "2- Generate synthetic **data** for that model"
      ],
      "metadata": {
        "id": "oELopDddvi1s"
      }
    },
    {
      "cell_type": "markdown",
      "source": [
        "## Model: Linear Regression\n",
        "\n",
        "$y=b+wx+\\epsilon$"
      ],
      "metadata": {
        "id": "y2jqb82Xvy7b"
      }
    },
    {
      "cell_type": "markdown",
      "source": [
        "## Data Generation\n",
        "For b=1, w=2."
      ],
      "metadata": {
        "id": "B9z37nKgz-pZ"
      }
    },
    {
      "cell_type": "code",
      "source": [
        "true_b = 1\n",
        "true_w = 2\n",
        "N = 100\n",
        "\n",
        "np.random.seed(42)\n",
        "x = np.random.rand(N, 1)\n",
        "epsilon = (.1 * np.random.randn(N, 1))\n",
        "y = true_b + true_w * x + epsilon"
      ],
      "metadata": {
        "id": "9nVmG_9Ivhmy"
      },
      "execution_count": 6,
      "outputs": []
    },
    {
      "cell_type": "markdown",
      "source": [
        "Now, splitting synthetic data into train and validation sets, shuffling the array of indices and using the first 80 shuffled points for training.\n",
        "\n",
        "**Why shuffling?**\n",
        "\n",
        "Always shuffle data points before training a model to improve the performance of gradient descent. *But in time-series problems, shuffling can lead to data leakage!*"
      ],
      "metadata": {
        "id": "y8BA6yLO1ekX"
      }
    },
    {
      "cell_type": "markdown",
      "source": [
        "### Train-Validation-Test Splitting points:\n",
        "\n",
        "1- The split should always be the **first thing** you do-no preprocessing, no transformations: nothing happens before the split. That's why we do this **immediately** after the synthetic data generation.\n",
        "\n",
        "2- Now, we use only training set."
      ],
      "metadata": {
        "id": "hQpd6jJR2b9N"
      }
    },
    {
      "cell_type": "code",
      "source": [
        "# Shuffle the indices\n",
        "idx = np.arange(N)\n",
        "np.random.shuffle(idx)\n",
        "\n",
        "# Uses first 80 random indices for train\n",
        "train_idx = idx[:int(N*.8)]\n",
        "\n",
        "# Uses the remaining indices for validation\n",
        "val_idx = idx[int(N*.8):]\n",
        "\n",
        "# Generates train and validation sets\n",
        "x_train, y_train = x[train_idx], y[train_idx]\n",
        "x_val, y_val = x[val_idx], y[val_idx]"
      ],
      "metadata": {
        "id": "tfjTaKZM0WYO"
      },
      "execution_count": 8,
      "outputs": []
    },
    {
      "cell_type": "code",
      "source": [],
      "metadata": {
        "id": "oD5x15v33lhz"
      },
      "execution_count": null,
      "outputs": []
    }
  ]
}